{
 "cells": [
  {
   "cell_type": "code",
   "execution_count": 279,
   "id": "c8e98492",
   "metadata": {},
   "outputs": [],
   "source": [
    "from langchain_groq import ChatGroq\n",
    "from langgraph.graph import StateGraph, START,END\n",
    "from langgraph.graph.message import add_messages\n",
    "from typing import Annotated\n",
    "from typing_extensions import TypedDict\n",
    "###--------------------tool importing-----------------###\n",
    "from langchain_community.tools import WikipediaQueryRun, Tool\n",
    "from langchain_community.utilities import WikipediaAPIWrapper,GoogleSerperAPIWrapper\n",
    "import os\n",
    "from dotenv import load_dotenv"
   ]
  },
  {
   "cell_type": "code",
   "execution_count": 280,
   "id": "48dfe832",
   "metadata": {},
   "outputs": [],
   "source": [
    "class State(TypedDict):\n",
    "  messages:Annotated[list, add_messages]\n",
    "graph_builder=StateGraph(State)"
   ]
  },
  {
   "cell_type": "code",
   "execution_count": 281,
   "id": "f6e5c527",
   "metadata": {},
   "outputs": [
    {
     "data": {
      "text/plain": [
       "True"
      ]
     },
     "execution_count": 281,
     "metadata": {},
     "output_type": "execute_result"
    }
   ],
   "source": [
    "\n",
    "load_dotenv()"
   ]
  },
  {
   "cell_type": "code",
   "execution_count": 282,
   "id": "56f29eb3",
   "metadata": {},
   "outputs": [],
   "source": [
    "api_key=os.getenv(\"GROQ_API_KEY\")"
   ]
  },
  {
   "cell_type": "code",
   "execution_count": 283,
   "id": "854ca07f",
   "metadata": {},
   "outputs": [],
   "source": [
    "llm = ChatGroq(api_key=api_key,model=\"meta-llama/llama-4-scout-17b-16e-instruct\",temperature=0.2)"
   ]
  },
  {
   "cell_type": "code",
   "execution_count": 284,
   "id": "542a88ef",
   "metadata": {},
   "outputs": [],
   "source": [
    "def router(state: State):\n",
    "    query = state[\"messages\"][-1].content\n",
    "\n",
    "    router_prompt = f\"\"\"\n",
    "You are a smart router. Classify this user query:\n",
    "\n",
    "\"{query}\"\n",
    "\n",
    "Options:\n",
    "1. \"memory\" → If the question is static, historical, or definitional (encyclopedia-like).\n",
    "2. \"tools\" → If the question needs current, real-time, or frequently changing data.\n",
    "3. \"both\" → If both memory and external data are useful (e.g., context + current info).\n",
    "\n",
    "Answer with one word only: memory, tools, or both.\n",
    "    \"\"\"\n",
    "\n",
    "    decision = llm.invoke(router_prompt).content.strip().lower()\n",
    "    if decision not in [\"memory\", \"tools\", \"both\"]:\n",
    "        decision = \"memory\"  # fallback\n",
    "    return decision\n"
   ]
  },
  {
   "cell_type": "code",
   "execution_count": 285,
   "id": "d2ed83d9",
   "metadata": {},
   "outputs": [],
   "source": [
    "serpapi_api_key=os.getenv(\"SERP_API_KEY\")\n",
    "search = GoogleSerperAPIWrapper(serper_api_key=serpapi_api_key)\n",
    "google_search = Tool(\n",
    "  name=\"Google Search\",\n",
    "  func=search.run,\n",
    "  description=\"Useful for answering questions about current events or real-time information from Google Search.\"\n",
    ")"
   ]
  },
  {
   "cell_type": "code",
   "execution_count": 286,
   "id": "7d1c69ea",
   "metadata": {},
   "outputs": [],
   "source": [
    "\n",
    "wiki_api_wrapper= WikipediaAPIWrapper()\n",
    "wikipedia_tool=WikipediaQueryRun(api_wrapper=wiki_api_wrapper)"
   ]
  },
  {
   "cell_type": "code",
   "execution_count": 287,
   "id": "e83bad8d",
   "metadata": {},
   "outputs": [
    {
     "data": {
      "text/plain": [
       "<langgraph.graph.state.StateGraph at 0x27848eee240>"
      ]
     },
     "execution_count": 287,
     "metadata": {},
     "output_type": "execute_result"
    }
   ],
   "source": [
    "from langgraph.prebuilt import ToolNode, tools_condition\n",
    "tool_node=ToolNode(tools=[google_search,wikipedia_tool])\n",
    "graph_builder.add_node(\"tools\",tool_node)"
   ]
  },
  {
   "cell_type": "code",
   "execution_count": 288,
   "id": "f7fb8030",
   "metadata": {},
   "outputs": [
    {
     "data": {
      "text/plain": [
       "<langgraph.graph.state.StateGraph at 0x27848eee240>"
      ]
     },
     "execution_count": 288,
     "metadata": {},
     "output_type": "execute_result"
    }
   ],
   "source": [
    "graph_builder.add_edge(START,\"chatbot\")\n"
   ]
  },
  {
   "cell_type": "code",
   "execution_count": 289,
   "id": "cdccd9c6",
   "metadata": {},
   "outputs": [
    {
     "data": {
      "text/plain": [
       "<langgraph.graph.state.StateGraph at 0x27848eee240>"
      ]
     },
     "execution_count": 289,
     "metadata": {},
     "output_type": "execute_result"
    }
   ],
   "source": [
    "graph_builder.add_conditional_edges(\n",
    "  \"chatbot\",\n",
    "  tools_condition\n",
    ")\n",
    "graph_builder.add_edge(\"tools\",\"chatbot\")\n",
    "\n"
   ]
  },
  {
   "cell_type": "code",
   "execution_count": 290,
   "id": "28069e00",
   "metadata": {},
   "outputs": [],
   "source": [
    "def compare_answers(state: State):\n",
    "    chatbot_ans = state.get(\"chatbot_answer\", \"\")\n",
    "    tool_ans = state.get(\"tool_answer\", \"\")\n",
    "\n",
    "    # Ask LLM to reconcile both\n",
    "    prompt = f\"\"\"\n",
    "You are an assistant. You have two possible answers to the user's question:\n",
    "\n",
    "Answer from memory (may be outdated):\n",
    "{chatbot_ans}\n",
    "\n",
    "Answer from external search tools (likely more up-to-date):\n",
    "{tool_ans}\n",
    "\n",
    "Please give the most relevant, correct, and up-to-date answer to the user.\n",
    "If the tool answer is empty or irrelevant, fallback to memory.\n",
    "\"\"\"\n",
    "    final = llm.invoke(prompt)\n",
    "    return {\"messages\": [final]}"
   ]
  },
  {
   "cell_type": "code",
   "execution_count": 291,
   "id": "eb5f1c97",
   "metadata": {},
   "outputs": [
    {
     "data": {
      "text/plain": [
       "<langgraph.graph.state.StateGraph at 0x27848eee240>"
      ]
     },
     "execution_count": 291,
     "metadata": {},
     "output_type": "execute_result"
    }
   ],
   "source": [
    "graph_builder.add_node(\"compare\",compare_answers)\n",
    "graph_builder.add_edge(\"compare\",END)\n"
   ]
  },
  {
   "cell_type": "code",
   "execution_count": 292,
   "id": "a2d9c8a4",
   "metadata": {},
   "outputs": [
    {
     "ename": "ValueError",
     "evalue": "Found edge starting at unknown node 'chatbot'",
     "output_type": "error",
     "traceback": [
      "\u001b[31m---------------------------------------------------------------------------\u001b[39m",
      "\u001b[31mValueError\u001b[39m                                Traceback (most recent call last)",
      "\u001b[36mCell\u001b[39m\u001b[36m \u001b[39m\u001b[32mIn[292]\u001b[39m\u001b[32m, line 1\u001b[39m\n\u001b[32m----> \u001b[39m\u001b[32m1\u001b[39m graph = \u001b[43mgraph_builder\u001b[49m\u001b[43m.\u001b[49m\u001b[43mcompile\u001b[49m\u001b[43m(\u001b[49m\u001b[43m)\u001b[49m\n",
      "\u001b[36mFile \u001b[39m\u001b[32mc:\\THIS IS THE PROJECT FILE\\E.U.N.A\\venv\\Lib\\site-packages\\langgraph\\graph\\state.py:829\u001b[39m, in \u001b[36mStateGraph.compile\u001b[39m\u001b[34m(self, checkpointer, cache, store, interrupt_before, interrupt_after, debug, name)\u001b[39m\n\u001b[32m    826\u001b[39m interrupt_after = interrupt_after \u001b[38;5;129;01mor\u001b[39;00m []\n\u001b[32m    828\u001b[39m \u001b[38;5;66;03m# validate the graph\u001b[39;00m\n\u001b[32m--> \u001b[39m\u001b[32m829\u001b[39m \u001b[38;5;28;43mself\u001b[39;49m\u001b[43m.\u001b[49m\u001b[43mvalidate\u001b[49m\u001b[43m(\u001b[49m\n\u001b[32m    830\u001b[39m \u001b[43m    \u001b[49m\u001b[43minterrupt\u001b[49m\u001b[43m=\u001b[49m\u001b[43m(\u001b[49m\n\u001b[32m    831\u001b[39m \u001b[43m        \u001b[49m\u001b[43m(\u001b[49m\u001b[43minterrupt_before\u001b[49m\u001b[43m \u001b[49m\u001b[38;5;28;43;01mif\u001b[39;49;00m\u001b[43m \u001b[49m\u001b[43minterrupt_before\u001b[49m\u001b[43m \u001b[49m\u001b[43m!=\u001b[49m\u001b[43m \u001b[49m\u001b[33;43m\"\u001b[39;49m\u001b[33;43m*\u001b[39;49m\u001b[33;43m\"\u001b[39;49m\u001b[43m \u001b[49m\u001b[38;5;28;43;01melse\u001b[39;49;00m\u001b[43m \u001b[49m\u001b[43m[\u001b[49m\u001b[43m]\u001b[49m\u001b[43m)\u001b[49m\u001b[43m \u001b[49m\u001b[43m+\u001b[49m\u001b[43m \u001b[49m\u001b[43minterrupt_after\u001b[49m\n\u001b[32m    832\u001b[39m \u001b[43m        \u001b[49m\u001b[38;5;28;43;01mif\u001b[39;49;00m\u001b[43m \u001b[49m\u001b[43minterrupt_after\u001b[49m\u001b[43m \u001b[49m\u001b[43m!=\u001b[49m\u001b[43m \u001b[49m\u001b[33;43m\"\u001b[39;49m\u001b[33;43m*\u001b[39;49m\u001b[33;43m\"\u001b[39;49m\n\u001b[32m    833\u001b[39m \u001b[43m        \u001b[49m\u001b[38;5;28;43;01melse\u001b[39;49;00m\u001b[43m \u001b[49m\u001b[43m[\u001b[49m\u001b[43m]\u001b[49m\n\u001b[32m    834\u001b[39m \u001b[43m    \u001b[49m\u001b[43m)\u001b[49m\n\u001b[32m    835\u001b[39m \u001b[43m\u001b[49m\u001b[43m)\u001b[49m\n\u001b[32m    837\u001b[39m \u001b[38;5;66;03m# prepare output channels\u001b[39;00m\n\u001b[32m    838\u001b[39m output_channels = (\n\u001b[32m    839\u001b[39m     \u001b[33m\"\u001b[39m\u001b[33m__root__\u001b[39m\u001b[33m\"\u001b[39m\n\u001b[32m    840\u001b[39m     \u001b[38;5;28;01mif\u001b[39;00m \u001b[38;5;28mlen\u001b[39m(\u001b[38;5;28mself\u001b[39m.schemas[\u001b[38;5;28mself\u001b[39m.output_schema]) == \u001b[32m1\u001b[39m\n\u001b[32m   (...)\u001b[39m\u001b[32m    846\u001b[39m     ]\n\u001b[32m    847\u001b[39m )\n",
      "\u001b[36mFile \u001b[39m\u001b[32mc:\\THIS IS THE PROJECT FILE\\E.U.N.A\\venv\\Lib\\site-packages\\langgraph\\graph\\state.py:756\u001b[39m, in \u001b[36mStateGraph.validate\u001b[39m\u001b[34m(self, interrupt)\u001b[39m\n\u001b[32m    754\u001b[39m \u001b[38;5;28;01mfor\u001b[39;00m source \u001b[38;5;129;01min\u001b[39;00m all_sources:\n\u001b[32m    755\u001b[39m     \u001b[38;5;28;01mif\u001b[39;00m source \u001b[38;5;129;01mnot\u001b[39;00m \u001b[38;5;129;01min\u001b[39;00m \u001b[38;5;28mself\u001b[39m.nodes \u001b[38;5;129;01mand\u001b[39;00m source != START:\n\u001b[32m--> \u001b[39m\u001b[32m756\u001b[39m         \u001b[38;5;28;01mraise\u001b[39;00m \u001b[38;5;167;01mValueError\u001b[39;00m(\u001b[33mf\u001b[39m\u001b[33m\"\u001b[39m\u001b[33mFound edge starting at unknown node \u001b[39m\u001b[33m'\u001b[39m\u001b[38;5;132;01m{\u001b[39;00msource\u001b[38;5;132;01m}\u001b[39;00m\u001b[33m'\u001b[39m\u001b[33m\"\u001b[39m)\n\u001b[32m    758\u001b[39m \u001b[38;5;28;01mif\u001b[39;00m START \u001b[38;5;129;01mnot\u001b[39;00m \u001b[38;5;129;01min\u001b[39;00m all_sources:\n\u001b[32m    759\u001b[39m     \u001b[38;5;28;01mraise\u001b[39;00m \u001b[38;5;167;01mValueError\u001b[39;00m(\n\u001b[32m    760\u001b[39m         \u001b[33m\"\u001b[39m\u001b[33mGraph must have an entrypoint: add at least one edge from START to another node\u001b[39m\u001b[33m\"\u001b[39m\n\u001b[32m    761\u001b[39m     )\n",
      "\u001b[31mValueError\u001b[39m: Found edge starting at unknown node 'chatbot'"
     ]
    }
   ],
   "source": [
    "graph = graph_builder.compile()"
   ]
  },
  {
   "cell_type": "code",
   "execution_count": 293,
   "id": "620ee911",
   "metadata": {},
   "outputs": [
    {
     "data": {
      "image/png": "[encoded data removed]",
      "text/plain": [
       "<IPython.core.display.Image object>"
      ]
     },
     "metadata": {},
     "output_type": "display_data"
    }
   ],
   "source": [
    "from IPython.display import Image, display\n",
    "try:\n",
    "  display(Image(graph.get_graph().draw_mermaid_png()))\n",
    "except:\n",
    "  pass"
   ]
  },
  {
   "cell_type": "code",
   "execution_count": 294,
   "id": "6e8de407",
   "metadata": {},
   "outputs": [
    {
     "name": "stdout",
     "output_type": "stream",
     "text": [
      "Assistant: The richest man in the world is a title that changes frequently, as the net worth of billionaires fluctuates with market performance and other factors. However, according to the most recent data available from Forbes, which updates its billionaire rankings regularly, as of my last update:\n",
      "\n",
      "**As of 2023, the richest man in the world is:**\n",
      "- **Bernard Arnault**, with a net worth of approximately $231 billion. He is the chairman and CEO of LVMH (Moët Hennessy Louis Vuitton), the world's largest luxury goods company.\n",
      "\n",
      "The rankings can change daily due to fluctuations in stock prices and other economic factors. Other notable mentions among the top 3 richest people in the world, according to recent updates, include:\n",
      "\n",
      "1. **Elon Musk** - Founder of SpaceX and Tesla, Inc., with a net worth that frequently changes due to the volatile stock prices of Tesla.\n",
      "2. **Jeff Bezos** - Founder of Amazon and Blue Origin, with a significant portion of his wealth tied to Amazon's stock performance.\n",
      "\n",
      "For the most current information, I recommend checking the latest updates from reliable sources such as Forbes, Bloomberg, or Reuters.\n",
      "Goodbye!\n"
     ]
    }
   ],
   "source": [
    "def stream_graph_updates(user_input: str):\n",
    "    for event in graph.stream({\"messages\": [{\"role\": \"user\", \"content\": user_input}]}):\n",
    "        for value in event.values():\n",
    "            print(\"Assistant:\", value[\"messages\"][-1].content)\n",
    "\n",
    "while True:\n",
    "    try:\n",
    "        user_input = input(\"User: \")\n",
    "        if user_input.lower() in [\"quit\", \"exit\", \"q\"]:\n",
    "            print(\"Goodbye!\")\n",
    "            break\n",
    "\n",
    "        stream_graph_updates(user_input)\n",
    "    except:\n",
    "        # fallback if input() is not available\n",
    "        user_input = \"What do you know about LangGraph?\"\n",
    "        print(\"User: \" + user_input)\n",
    "        stream_graph_updates(user_input)\n",
    "        break"
   ]
  },
  {
   "cell_type": "code",
   "execution_count": null,
   "id": "4f1aef9e",
   "metadata": {},
   "outputs": [],
   "source": []
  }
 ],
 "metadata": {
  "kernelspec": {
   "display_name": "venv",
   "language": "python",
   "name": "python3"
  },
  "language_info": {
   "codemirror_mode": {
    "name": "ipython",
    "version": 3
   },
   "file_extension": ".py",
   "mimetype": "text/x-python",
   "name": "python",
   "nbconvert_exporter": "python",
   "pygments_lexer": "ipython3",
   "version": "3.12.7"
  }
 },
 "nbformat": 4,
 "nbformat_minor": 5
}
